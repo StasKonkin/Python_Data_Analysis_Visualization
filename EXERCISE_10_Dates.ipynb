{
 "cells": [
  {
   "cell_type": "markdown",
   "id": "1beed2c3",
   "metadata": {},
   "source": [
    "# Working With Dates Exercise"
   ]
  },
  {
   "cell_type": "markdown",
   "id": "00a80539",
   "metadata": {},
   "source": [
    "https://pandas.pydata.org/docs/user_guide/timeseries.html#time-date-components"
   ]
  },
  {
   "cell_type": "code",
   "execution_count": 1,
   "id": "816d2101",
   "metadata": {},
   "outputs": [
    {
     "name": "stdout",
     "output_type": "stream",
     "text": [
      "<class 'pandas.core.frame.DataFrame'>\n",
      "RangeIndex: 21613 entries, 0 to 21612\n",
      "Data columns (total 21 columns):\n",
      " #   Column         Non-Null Count  Dtype         \n",
      "---  ------         --------------  -----         \n",
      " 0   id             21613 non-null  int64         \n",
      " 1   date           21613 non-null  datetime64[ns]\n",
      " 2   price          21613 non-null  float64       \n",
      " 3   bedrooms       21613 non-null  int64         \n",
      " 4   bathrooms      21613 non-null  float64       \n",
      " 5   sqft_living    21613 non-null  int64         \n",
      " 6   sqft_lot       21613 non-null  int64         \n",
      " 7   floors         21613 non-null  float64       \n",
      " 8   waterfront     21613 non-null  int64         \n",
      " 9   view           21613 non-null  int64         \n",
      " 10  condition      21613 non-null  int64         \n",
      " 11  grade          21613 non-null  int64         \n",
      " 12  sqft_above     21613 non-null  int64         \n",
      " 13  sqft_basement  21613 non-null  int64         \n",
      " 14  yr_built       21613 non-null  int64         \n",
      " 15  yr_renovated   21613 non-null  int64         \n",
      " 16  zipcode        21613 non-null  int64         \n",
      " 17  lat            21613 non-null  float64       \n",
      " 18  long           21613 non-null  float64       \n",
      " 19  sqft_living15  21613 non-null  int64         \n",
      " 20  sqft_lot15     21613 non-null  int64         \n",
      "dtypes: datetime64[ns](1), float64(5), int64(15)\n",
      "memory usage: 3.5 MB\n"
     ]
    }
   ],
   "source": [
    "# Import the \"kc_house_data.csv\" and parse the \"date\" column in a single line\n",
    "import pandas as pd\n",
    "path = r\"C:\\Users\\stask\\Python Data Analysis & Visualization Masterclass\\data\\kc_house_data.csv\".replace('\\\\', '/')\n",
    "houses = pd.read_csv(path, parse_dates=['date'])\n",
    "houses.info()"
   ]
  },
  {
   "cell_type": "code",
   "execution_count": 33,
   "id": "9c7b08f1",
   "metadata": {},
   "outputs": [
    {
     "data": {
      "text/plain": [
       "390"
      ]
     },
     "execution_count": 33,
     "metadata": {},
     "output_type": "execute_result"
    }
   ],
   "source": [
    "# Calculate how many days the dataset spans\n",
    "timespan = houses.date.max() - houses.date.min()\n",
    "timespan.days"
   ]
  },
  {
   "cell_type": "code",
   "execution_count": 28,
   "id": "7f13ebaa",
   "metadata": {},
   "outputs": [
    {
     "data": {
      "text/plain": [
       "2014-06-23    142\n",
       "2014-06-26    131\n",
       "2014-06-25    131\n",
       "Name: date, dtype: int64"
      ]
     },
     "execution_count": 28,
     "metadata": {},
     "output_type": "execute_result"
    }
   ],
   "source": [
    "# Find the date that had the most house sales\n",
    "houses.date.value_counts().head(3)"
   ]
  },
  {
   "cell_type": "code",
   "execution_count": 30,
   "id": "747b8b36",
   "metadata": {},
   "outputs": [
    {
     "data": {
      "text/plain": [
       "(142, 21)"
      ]
     },
     "execution_count": 30,
     "metadata": {},
     "output_type": "execute_result"
    }
   ],
   "source": [
    "# Find all the homes sold on that date\n",
    "houses[houses.date == '2014-06-23'].shape"
   ]
  },
  {
   "cell_type": "code",
   "execution_count": 34,
   "id": "3bf3023f",
   "metadata": {},
   "outputs": [
    {
     "data": {
      "text/plain": [
       "<AxesSubplot:ylabel='date'>"
      ]
     },
     "execution_count": 34,
     "metadata": {},
     "output_type": "execute_result"
    },
    {
     "data": {
      "image/png": "[encoded data removed]",
      "text/plain": [
       "<Figure size 640x480 with 1 Axes>"
      ]
     },
     "metadata": {},
     "output_type": "display_data"
    }
   ],
   "source": [
    "# Create a pie chart showing the years that home sales took place in (2014 and 2015)\n",
    "houses.date.dt.year.value_counts().plot(kind='pie')"
   ]
  },
  {
   "cell_type": "code",
   "execution_count": 41,
   "id": "88fb60ab",
   "metadata": {},
   "outputs": [
    {
     "data": {
      "text/html": [
       "<div>\n",
       "<style scoped>\n",
       "    .dataframe tbody tr th:only-of-type {\n",
       "        vertical-align: middle;\n",
       "    }\n",
       "\n",
       "    .dataframe tbody tr th {\n",
       "        vertical-align: top;\n",
       "    }\n",
       "\n",
       "    .dataframe thead th {\n",
       "        text-align: right;\n",
       "    }\n",
       "</style>\n",
       "<table border=\"1\" class=\"dataframe\">\n",
       "  <thead>\n",
       "    <tr style=\"text-align: right;\">\n",
       "      <th></th>\n",
       "      <th>id</th>\n",
       "      <th>date</th>\n",
       "      <th>price</th>\n",
       "      <th>bedrooms</th>\n",
       "      <th>bathrooms</th>\n",
       "      <th>sqft_living</th>\n",
       "      <th>sqft_lot</th>\n",
       "      <th>floors</th>\n",
       "      <th>waterfront</th>\n",
       "      <th>view</th>\n",
       "      <th>...</th>\n",
       "      <th>grade</th>\n",
       "      <th>sqft_above</th>\n",
       "      <th>sqft_basement</th>\n",
       "      <th>yr_built</th>\n",
       "      <th>yr_renovated</th>\n",
       "      <th>zipcode</th>\n",
       "      <th>lat</th>\n",
       "      <th>long</th>\n",
       "      <th>sqft_living15</th>\n",
       "      <th>sqft_lot15</th>\n",
       "    </tr>\n",
       "  </thead>\n",
       "  <tbody>\n",
       "    <tr>\n",
       "      <th>11907</th>\n",
       "      <td>3221059036</td>\n",
       "      <td>2014-05-02</td>\n",
       "      <td>400000.0</td>\n",
       "      <td>4</td>\n",
       "      <td>2.50</td>\n",
       "      <td>3630</td>\n",
       "      <td>42884</td>\n",
       "      <td>1.5</td>\n",
       "      <td>0</td>\n",
       "      <td>0</td>\n",
       "      <td>...</td>\n",
       "      <td>9</td>\n",
       "      <td>2300</td>\n",
       "      <td>1330</td>\n",
       "      <td>1979</td>\n",
       "      <td>0</td>\n",
       "      <td>98092</td>\n",
       "      <td>47.2617</td>\n",
       "      <td>-122.190</td>\n",
       "      <td>2830</td>\n",
       "      <td>80148</td>\n",
       "    </tr>\n",
       "    <tr>\n",
       "      <th>20559</th>\n",
       "      <td>3438501320</td>\n",
       "      <td>2014-05-02</td>\n",
       "      <td>295000.0</td>\n",
       "      <td>2</td>\n",
       "      <td>2.50</td>\n",
       "      <td>1630</td>\n",
       "      <td>1368</td>\n",
       "      <td>2.0</td>\n",
       "      <td>0</td>\n",
       "      <td>0</td>\n",
       "      <td>...</td>\n",
       "      <td>7</td>\n",
       "      <td>1280</td>\n",
       "      <td>350</td>\n",
       "      <td>2009</td>\n",
       "      <td>0</td>\n",
       "      <td>98106</td>\n",
       "      <td>47.5489</td>\n",
       "      <td>-122.363</td>\n",
       "      <td>1590</td>\n",
       "      <td>2306</td>\n",
       "    </tr>\n",
       "    <tr>\n",
       "      <th>17038</th>\n",
       "      <td>2326059099</td>\n",
       "      <td>2014-05-02</td>\n",
       "      <td>838000.0</td>\n",
       "      <td>4</td>\n",
       "      <td>2.50</td>\n",
       "      <td>3310</td>\n",
       "      <td>42998</td>\n",
       "      <td>2.0</td>\n",
       "      <td>0</td>\n",
       "      <td>0</td>\n",
       "      <td>...</td>\n",
       "      <td>9</td>\n",
       "      <td>3310</td>\n",
       "      <td>0</td>\n",
       "      <td>2001</td>\n",
       "      <td>0</td>\n",
       "      <td>98052</td>\n",
       "      <td>47.7232</td>\n",
       "      <td>-122.131</td>\n",
       "      <td>3350</td>\n",
       "      <td>42847</td>\n",
       "    </tr>\n",
       "    <tr>\n",
       "      <th>15921</th>\n",
       "      <td>7831800460</td>\n",
       "      <td>2014-05-02</td>\n",
       "      <td>235000.0</td>\n",
       "      <td>2</td>\n",
       "      <td>1.00</td>\n",
       "      <td>1210</td>\n",
       "      <td>9400</td>\n",
       "      <td>1.0</td>\n",
       "      <td>0</td>\n",
       "      <td>0</td>\n",
       "      <td>...</td>\n",
       "      <td>6</td>\n",
       "      <td>1210</td>\n",
       "      <td>0</td>\n",
       "      <td>1949</td>\n",
       "      <td>0</td>\n",
       "      <td>98106</td>\n",
       "      <td>47.5342</td>\n",
       "      <td>-122.360</td>\n",
       "      <td>1580</td>\n",
       "      <td>6026</td>\n",
       "    </tr>\n",
       "    <tr>\n",
       "      <th>11891</th>\n",
       "      <td>7305300695</td>\n",
       "      <td>2014-05-02</td>\n",
       "      <td>625000.0</td>\n",
       "      <td>4</td>\n",
       "      <td>2.50</td>\n",
       "      <td>2820</td>\n",
       "      <td>8408</td>\n",
       "      <td>2.0</td>\n",
       "      <td>0</td>\n",
       "      <td>0</td>\n",
       "      <td>...</td>\n",
       "      <td>9</td>\n",
       "      <td>2820</td>\n",
       "      <td>0</td>\n",
       "      <td>2014</td>\n",
       "      <td>0</td>\n",
       "      <td>98155</td>\n",
       "      <td>47.7538</td>\n",
       "      <td>-122.325</td>\n",
       "      <td>1300</td>\n",
       "      <td>8408</td>\n",
       "    </tr>\n",
       "    <tr>\n",
       "      <th>...</th>\n",
       "      <td>...</td>\n",
       "      <td>...</td>\n",
       "      <td>...</td>\n",
       "      <td>...</td>\n",
       "      <td>...</td>\n",
       "      <td>...</td>\n",
       "      <td>...</td>\n",
       "      <td>...</td>\n",
       "      <td>...</td>\n",
       "      <td>...</td>\n",
       "      <td>...</td>\n",
       "      <td>...</td>\n",
       "      <td>...</td>\n",
       "      <td>...</td>\n",
       "      <td>...</td>\n",
       "      <td>...</td>\n",
       "      <td>...</td>\n",
       "      <td>...</td>\n",
       "      <td>...</td>\n",
       "      <td>...</td>\n",
       "      <td>...</td>\n",
       "    </tr>\n",
       "    <tr>\n",
       "      <th>1692</th>\n",
       "      <td>7701990700</td>\n",
       "      <td>2014-12-31</td>\n",
       "      <td>825000.0</td>\n",
       "      <td>4</td>\n",
       "      <td>2.50</td>\n",
       "      <td>3210</td>\n",
       "      <td>18901</td>\n",
       "      <td>2.0</td>\n",
       "      <td>0</td>\n",
       "      <td>0</td>\n",
       "      <td>...</td>\n",
       "      <td>10</td>\n",
       "      <td>3210</td>\n",
       "      <td>0</td>\n",
       "      <td>1993</td>\n",
       "      <td>0</td>\n",
       "      <td>98077</td>\n",
       "      <td>47.7090</td>\n",
       "      <td>-122.073</td>\n",
       "      <td>3330</td>\n",
       "      <td>18901</td>\n",
       "    </tr>\n",
       "    <tr>\n",
       "      <th>8393</th>\n",
       "      <td>2493200215</td>\n",
       "      <td>2014-12-31</td>\n",
       "      <td>582000.0</td>\n",
       "      <td>3</td>\n",
       "      <td>1.75</td>\n",
       "      <td>1820</td>\n",
       "      <td>3140</td>\n",
       "      <td>2.0</td>\n",
       "      <td>0</td>\n",
       "      <td>0</td>\n",
       "      <td>...</td>\n",
       "      <td>8</td>\n",
       "      <td>1820</td>\n",
       "      <td>0</td>\n",
       "      <td>1949</td>\n",
       "      <td>1990</td>\n",
       "      <td>98136</td>\n",
       "      <td>47.5271</td>\n",
       "      <td>-122.384</td>\n",
       "      <td>2030</td>\n",
       "      <td>5499</td>\n",
       "    </tr>\n",
       "    <tr>\n",
       "      <th>18462</th>\n",
       "      <td>7345200650</td>\n",
       "      <td>2014-12-31</td>\n",
       "      <td>219200.0</td>\n",
       "      <td>3</td>\n",
       "      <td>2.00</td>\n",
       "      <td>1680</td>\n",
       "      <td>7000</td>\n",
       "      <td>1.5</td>\n",
       "      <td>0</td>\n",
       "      <td>0</td>\n",
       "      <td>...</td>\n",
       "      <td>7</td>\n",
       "      <td>1680</td>\n",
       "      <td>0</td>\n",
       "      <td>1968</td>\n",
       "      <td>0</td>\n",
       "      <td>98002</td>\n",
       "      <td>47.2775</td>\n",
       "      <td>-122.203</td>\n",
       "      <td>1540</td>\n",
       "      <td>7480</td>\n",
       "    </tr>\n",
       "    <tr>\n",
       "      <th>9850</th>\n",
       "      <td>8861000060</td>\n",
       "      <td>2014-12-31</td>\n",
       "      <td>875000.0</td>\n",
       "      <td>3</td>\n",
       "      <td>1.00</td>\n",
       "      <td>1160</td>\n",
       "      <td>10732</td>\n",
       "      <td>1.0</td>\n",
       "      <td>0</td>\n",
       "      <td>0</td>\n",
       "      <td>...</td>\n",
       "      <td>7</td>\n",
       "      <td>1160</td>\n",
       "      <td>0</td>\n",
       "      <td>1953</td>\n",
       "      <td>0</td>\n",
       "      <td>98004</td>\n",
       "      <td>47.6391</td>\n",
       "      <td>-122.205</td>\n",
       "      <td>2390</td>\n",
       "      <td>13656</td>\n",
       "    </tr>\n",
       "    <tr>\n",
       "      <th>18433</th>\n",
       "      <td>1545801340</td>\n",
       "      <td>2014-12-31</td>\n",
       "      <td>261000.0</td>\n",
       "      <td>3</td>\n",
       "      <td>1.75</td>\n",
       "      <td>1350</td>\n",
       "      <td>7686</td>\n",
       "      <td>1.0</td>\n",
       "      <td>0</td>\n",
       "      <td>0</td>\n",
       "      <td>...</td>\n",
       "      <td>7</td>\n",
       "      <td>1350</td>\n",
       "      <td>0</td>\n",
       "      <td>1987</td>\n",
       "      <td>0</td>\n",
       "      <td>98038</td>\n",
       "      <td>47.3617</td>\n",
       "      <td>-122.052</td>\n",
       "      <td>1370</td>\n",
       "      <td>7686</td>\n",
       "    </tr>\n",
       "  </tbody>\n",
       "</table>\n",
       "<p>14633 rows × 21 columns</p>\n",
       "</div>"
      ],
      "text/plain": [
       "               id       date     price  bedrooms  bathrooms  sqft_living  \\\n",
       "11907  3221059036 2014-05-02  400000.0         4       2.50         3630   \n",
       "20559  3438501320 2014-05-02  295000.0         2       2.50         1630   \n",
       "17038  2326059099 2014-05-02  838000.0         4       2.50         3310   \n",
       "15921  7831800460 2014-05-02  235000.0         2       1.00         1210   \n",
       "11891  7305300695 2014-05-02  625000.0         4       2.50         2820   \n",
       "...           ...        ...       ...       ...        ...          ...   \n",
       "1692   7701990700 2014-12-31  825000.0         4       2.50         3210   \n",
       "8393   2493200215 2014-12-31  582000.0         3       1.75         1820   \n",
       "18462  7345200650 2014-12-31  219200.0         3       2.00         1680   \n",
       "9850   8861000060 2014-12-31  875000.0         3       1.00         1160   \n",
       "18433  1545801340 2014-12-31  261000.0         3       1.75         1350   \n",
       "\n",
       "       sqft_lot  floors  waterfront  view  ...  grade  sqft_above  \\\n",
       "11907     42884     1.5           0     0  ...      9        2300   \n",
       "20559      1368     2.0           0     0  ...      7        1280   \n",
       "17038     42998     2.0           0     0  ...      9        3310   \n",
       "15921      9400     1.0           0     0  ...      6        1210   \n",
       "11891      8408     2.0           0     0  ...      9        2820   \n",
       "...         ...     ...         ...   ...  ...    ...         ...   \n",
       "1692      18901     2.0           0     0  ...     10        3210   \n",
       "8393       3140     2.0           0     0  ...      8        1820   \n",
       "18462      7000     1.5           0     0  ...      7        1680   \n",
       "9850      10732     1.0           0     0  ...      7        1160   \n",
       "18433      7686     1.0           0     0  ...      7        1350   \n",
       "\n",
       "       sqft_basement  yr_built  yr_renovated  zipcode      lat     long  \\\n",
       "11907           1330      1979             0    98092  47.2617 -122.190   \n",
       "20559            350      2009             0    98106  47.5489 -122.363   \n",
       "17038              0      2001             0    98052  47.7232 -122.131   \n",
       "15921              0      1949             0    98106  47.5342 -122.360   \n",
       "11891              0      2014             0    98155  47.7538 -122.325   \n",
       "...              ...       ...           ...      ...      ...      ...   \n",
       "1692               0      1993             0    98077  47.7090 -122.073   \n",
       "8393               0      1949          1990    98136  47.5271 -122.384   \n",
       "18462              0      1968             0    98002  47.2775 -122.203   \n",
       "9850               0      1953             0    98004  47.6391 -122.205   \n",
       "18433              0      1987             0    98038  47.3617 -122.052   \n",
       "\n",
       "       sqft_living15  sqft_lot15  \n",
       "11907           2830       80148  \n",
       "20559           1590        2306  \n",
       "17038           3350       42847  \n",
       "15921           1580        6026  \n",
       "11891           1300        8408  \n",
       "...              ...         ...  \n",
       "1692            3330       18901  \n",
       "8393            2030        5499  \n",
       "18462           1540        7480  \n",
       "9850            2390       13656  \n",
       "18433           1370        7686  \n",
       "\n",
       "[14633 rows x 21 columns]"
      ]
     },
     "execution_count": 41,
     "metadata": {},
     "output_type": "execute_result"
    }
   ],
   "source": [
    "# Find all the homes sold in 2014, sorted from earliest to latest\n",
    "houses[houses.date.dt.year == 2014].sort_values('date')"
   ]
  },
  {
   "cell_type": "code",
   "execution_count": 48,
   "id": "a3642207",
   "metadata": {},
   "outputs": [
    {
     "data": {
      "text/plain": [
       "5    2414\n",
       "4    2231\n",
       "7    2211\n",
       "Name: date, dtype: int64"
      ]
     },
     "execution_count": 48,
     "metadata": {},
     "output_type": "execute_result"
    }
   ],
   "source": [
    "# Count up the number of sales that took place in each month of the year.  Which month had the most?\n",
    "houses.date.dt.month.value_counts().head(3)"
   ]
  },
  {
   "cell_type": "code",
   "execution_count": 20,
   "id": "b077a422",
   "metadata": {},
   "outputs": [
    {
     "data": {
      "text/plain": [
       "<AxesSubplot:>"
      ]
     },
     "execution_count": 20,
     "metadata": {},
     "output_type": "execute_result"
    },
    {
     "data": {
      "image/png": "[encoded data removed]",
      "text/plain": [
       "<Figure size 640x480 with 1 Axes>"
      ]
     },
     "metadata": {},
     "output_type": "display_data"
    }
   ],
   "source": [
    "# Find the homes sold between May 1st 2014 and May 1st 2015\n",
    "houses_specific_date = houses[houses.date.between('May 1st 2014', 'May 1st 2015')].sort_values('date')\n",
    "# Create a bar plot showing the total number of sales per month in that period\n",
    "houses_specific_date.date.dt.month.value_counts().sort_index().plot(kind='bar')"
   ]
  },
  {
   "cell_type": "code",
   "execution_count": 21,
   "id": "566e186c",
   "metadata": {},
   "outputs": [
    {
     "data": {
      "text/plain": [
       "1    4715\n",
       "2    4603\n",
       "0    4099\n",
       "3    3994\n",
       "4    3685\n",
       "5     287\n",
       "6     230\n",
       "Name: date, dtype: int64"
      ]
     },
     "execution_count": 21,
     "metadata": {},
     "output_type": "execute_result"
    }
   ],
   "source": [
    "# Count up the number of homesales by day of the week\n",
    "houses.date.dt.dayofweek.value_counts()"
   ]
  },
  {
   "cell_type": "code",
   "execution_count": 22,
   "id": "5bd96ebe",
   "metadata": {},
   "outputs": [
    {
     "data": {
      "text/plain": [
       "<AxesSubplot:>"
      ]
     },
     "execution_count": 22,
     "metadata": {},
     "output_type": "execute_result"
    },
    {
     "data": {
      "image/png": "[encoded data removed]",
      "text/plain": [
       "<Figure size 640x480 with 1 Axes>"
      ]
     },
     "metadata": {},
     "output_type": "display_data"
    }
   ],
   "source": [
    "# Create a line plot showing the total number of sales by week of the year number\n",
    "houses.date.dt.isocalendar().week.value_counts().sort_index().plot(kind='line')"
   ]
  },
  {
   "cell_type": "code",
   "execution_count": 23,
   "id": "9ff28a09",
   "metadata": {},
   "outputs": [
    {
     "data": {
      "text/plain": [
       "<AxesSubplot:>"
      ]
     },
     "execution_count": 23,
     "metadata": {},
     "output_type": "execute_result"
    },
    {
     "data": {
      "image/png": "[encoded data removed]",
      "text/plain": [
       "<Figure size 640x480 with 1 Axes>"
      ]
     },
     "metadata": {},
     "output_type": "display_data"
    }
   ],
   "source": [
    "# Create a bar plot showing the total number of sales that took place in December, January, and February\n",
    "months = [12, 1, 2]\n",
    "houses[houses.date.dt.month.isin(months)].date.dt.month.value_counts().plot(kind='bar')"
   ]
  },
  {
   "cell_type": "code",
   "execution_count": 30,
   "id": "5d27f32e",
   "metadata": {},
   "outputs": [
    {
     "data": {
      "text/plain": [
       "<AxesSubplot:>"
      ]
     },
     "execution_count": 30,
     "metadata": {},
     "output_type": "execute_result"
    },
    {
     "data": {
      "image/png": "[encoded data removed]",
      "text/plain": [
       "<Figure size 640x480 with 1 Axes>"
      ]
     },
     "metadata": {},
     "output_type": "display_data"
    }
   ],
   "source": [
    "# Work with the homes sold between May 1st 2014 and May 1st 2015\n",
    "# Within that year, find the waterfront homes that were sold\n",
    "# Which quarter of that year had the most waterfront home sales?  The least?\n",
    "# Create a bar plot showing the number of waterfront home sales per quarter\n",
    "houses_specific_date[houses_specific_date.waterfront == 1].date.dt.quarter.value_counts().sort_index().plot(kind='bar')"
   ]
  }
 ],
 "metadata": {
  "kernelspec": {
   "display_name": "Python 3 (ipykernel)",
   "language": "python",
   "name": "python3"
  },
  "language_info": {
   "codemirror_mode": {
    "name": "ipython",
    "version": 3
   },
   "file_extension": ".py",
   "mimetype": "text/x-python",
   "name": "python",
   "nbconvert_exporter": "python",
   "pygments_lexer": "ipython3",
   "version": "3.9.13"
  }
 },
 "nbformat": 4,
 "nbformat_minor": 5
}
