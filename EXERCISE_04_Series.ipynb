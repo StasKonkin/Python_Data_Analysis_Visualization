{
 "cells": [
  {
   "cell_type": "markdown",
   "id": "fd53be39",
   "metadata": {},
   "source": [
    "# Series Basics Exercise\n",
    "\n",
    "**Work with the `bestsellers.csv` dataset to answer the following questions:**"
   ]
  },
  {
   "cell_type": "markdown",
   "id": "bf9e627e",
   "metadata": {},
   "source": [
    "## Part 1\n",
    "* Retrieve a series that contains the book Names\n",
    "* Retrieve a series that contains the User Ratings\n",
    "* Retrieve the first 8 Authors"
   ]
  },
  {
   "cell_type": "code",
   "execution_count": 1,
   "id": "aafe3c0c",
   "metadata": {},
   "outputs": [],
   "source": [
    "import pandas as pd"
   ]
  },
  {
   "cell_type": "code",
   "execution_count": 2,
   "id": "00a0d6ca",
   "metadata": {},
   "outputs": [],
   "source": [
    "path = r\"C:\\Users\\stask\\Python Data Analysis & Visualization Masterclass\\data\\bestsellers.csv\".replace('\\\\', '/')"
   ]
  },
  {
   "cell_type": "code",
   "execution_count": 3,
   "id": "09fe215b",
   "metadata": {},
   "outputs": [
    {
     "data": {
      "text/html": [
       "<div>\n",
       "<style scoped>\n",
       "    .dataframe tbody tr th:only-of-type {\n",
       "        vertical-align: middle;\n",
       "    }\n",
       "\n",
       "    .dataframe tbody tr th {\n",
       "        vertical-align: top;\n",
       "    }\n",
       "\n",
       "    .dataframe thead th {\n",
       "        text-align: right;\n",
       "    }\n",
       "</style>\n",
       "<table border=\"1\" class=\"dataframe\">\n",
       "  <thead>\n",
       "    <tr style=\"text-align: right;\">\n",
       "      <th></th>\n",
       "      <th>Name</th>\n",
       "      <th>Author</th>\n",
       "      <th>User Rating</th>\n",
       "      <th>Reviews</th>\n",
       "      <th>Price</th>\n",
       "      <th>Year</th>\n",
       "      <th>Genre</th>\n",
       "    </tr>\n",
       "  </thead>\n",
       "  <tbody>\n",
       "    <tr>\n",
       "      <th>0</th>\n",
       "      <td>10-Day Green Smoothie Cleanse</td>\n",
       "      <td>JJ Smith</td>\n",
       "      <td>4.7</td>\n",
       "      <td>17350</td>\n",
       "      <td>8</td>\n",
       "      <td>2016</td>\n",
       "      <td>Non Fiction</td>\n",
       "    </tr>\n",
       "    <tr>\n",
       "      <th>1</th>\n",
       "      <td>11/22/63: A Novel</td>\n",
       "      <td>Stephen King</td>\n",
       "      <td>4.6</td>\n",
       "      <td>2052</td>\n",
       "      <td>22</td>\n",
       "      <td>2011</td>\n",
       "      <td>Fiction</td>\n",
       "    </tr>\n",
       "    <tr>\n",
       "      <th>2</th>\n",
       "      <td>12 Rules for Life: An Antidote to Chaos</td>\n",
       "      <td>Jordan B. Peterson</td>\n",
       "      <td>4.7</td>\n",
       "      <td>18979</td>\n",
       "      <td>15</td>\n",
       "      <td>2018</td>\n",
       "      <td>Non Fiction</td>\n",
       "    </tr>\n",
       "    <tr>\n",
       "      <th>3</th>\n",
       "      <td>1984 (Signet Classics)</td>\n",
       "      <td>George Orwell</td>\n",
       "      <td>4.7</td>\n",
       "      <td>21424</td>\n",
       "      <td>6</td>\n",
       "      <td>2017</td>\n",
       "      <td>Fiction</td>\n",
       "    </tr>\n",
       "    <tr>\n",
       "      <th>4</th>\n",
       "      <td>5,000 Awesome Facts (About Everything!) (Natio...</td>\n",
       "      <td>National Geographic Kids</td>\n",
       "      <td>4.8</td>\n",
       "      <td>7665</td>\n",
       "      <td>12</td>\n",
       "      <td>2019</td>\n",
       "      <td>Non Fiction</td>\n",
       "    </tr>\n",
       "  </tbody>\n",
       "</table>\n",
       "</div>"
      ],
      "text/plain": [
       "                                                Name  \\\n",
       "0                      10-Day Green Smoothie Cleanse   \n",
       "1                                  11/22/63: A Novel   \n",
       "2            12 Rules for Life: An Antidote to Chaos   \n",
       "3                             1984 (Signet Classics)   \n",
       "4  5,000 Awesome Facts (About Everything!) (Natio...   \n",
       "\n",
       "                     Author  User Rating  Reviews  Price  Year        Genre  \n",
       "0                  JJ Smith          4.7    17350      8  2016  Non Fiction  \n",
       "1              Stephen King          4.6     2052     22  2011      Fiction  \n",
       "2        Jordan B. Peterson          4.7    18979     15  2018  Non Fiction  \n",
       "3             George Orwell          4.7    21424      6  2017      Fiction  \n",
       "4  National Geographic Kids          4.8     7665     12  2019  Non Fiction  "
      ]
     },
     "execution_count": 3,
     "metadata": {},
     "output_type": "execute_result"
    }
   ],
   "source": [
    "bestsellers = pd.read_csv(path)\n",
    "bestsellers.head()"
   ]
  },
  {
   "cell_type": "code",
   "execution_count": 4,
   "id": "03ff04b1",
   "metadata": {},
   "outputs": [
    {
     "data": {
      "text/plain": [
       "0                          10-Day Green Smoothie Cleanse\n",
       "1                                      11/22/63: A Novel\n",
       "2                12 Rules for Life: An Antidote to Chaos\n",
       "3                                 1984 (Signet Classics)\n",
       "4      5,000 Awesome Facts (About Everything!) (Natio...\n",
       "                             ...                        \n",
       "545         Wrecking Ball (Diary of a Wimpy Kid Book 14)\n",
       "546    You Are a Badass: How to Stop Doubting Your Gr...\n",
       "547    You Are a Badass: How to Stop Doubting Your Gr...\n",
       "548    You Are a Badass: How to Stop Doubting Your Gr...\n",
       "549    You Are a Badass: How to Stop Doubting Your Gr...\n",
       "Name: Name, Length: 550, dtype: object"
      ]
     },
     "execution_count": 4,
     "metadata": {},
     "output_type": "execute_result"
    }
   ],
   "source": [
    "# Retrieve a series that contains the book Names\n",
    "bestsellers.Name"
   ]
  },
  {
   "cell_type": "code",
   "execution_count": 5,
   "id": "cf059467",
   "metadata": {},
   "outputs": [
    {
     "data": {
      "text/plain": [
       "0      4.7\n",
       "1      4.6\n",
       "2      4.7\n",
       "3      4.7\n",
       "4      4.8\n",
       "      ... \n",
       "545    4.9\n",
       "546    4.7\n",
       "547    4.7\n",
       "548    4.7\n",
       "549    4.7\n",
       "Name: User Rating, Length: 550, dtype: float64"
      ]
     },
     "execution_count": 5,
     "metadata": {},
     "output_type": "execute_result"
    }
   ],
   "source": [
    "# Retrieve a series that contains the User Ratings\n",
    "bestsellers['User Rating']"
   ]
  },
  {
   "cell_type": "code",
   "execution_count": 6,
   "id": "447c7409",
   "metadata": {},
   "outputs": [
    {
     "data": {
      "text/plain": [
       "0                    JJ Smith\n",
       "1                Stephen King\n",
       "2          Jordan B. Peterson\n",
       "3               George Orwell\n",
       "4    National Geographic Kids\n",
       "5         George R. R. Martin\n",
       "6         George R. R. Martin\n",
       "7                 Amor Towles\n",
       "Name: Author, dtype: object"
      ]
     },
     "execution_count": 6,
     "metadata": {},
     "output_type": "execute_result"
    }
   ],
   "source": [
    "# Retrieve the first 8 Authors\n",
    "bestsellers.Author.head(8)"
   ]
  },
  {
   "cell_type": "markdown",
   "id": "2f778d1b",
   "metadata": {},
   "source": [
    "## Part 2\n",
    "* Find the unique Genres\n",
    "* Find the number of unique Authors\n",
    "* Find the average Price\n",
    "* Find the 10 highest prices"
   ]
  },
  {
   "cell_type": "code",
   "execution_count": 7,
   "id": "899b64a8",
   "metadata": {},
   "outputs": [
    {
     "data": {
      "text/plain": [
       "Index(['Name', 'Author', 'User Rating', 'Reviews', 'Price', 'Year', 'Genre'], dtype='object')"
      ]
     },
     "execution_count": 7,
     "metadata": {},
     "output_type": "execute_result"
    }
   ],
   "source": [
    "bestsellers.columns"
   ]
  },
  {
   "cell_type": "code",
   "execution_count": 8,
   "id": "e78d09d2",
   "metadata": {},
   "outputs": [
    {
     "data": {
      "text/plain": [
       "array(['Non Fiction', 'Fiction'], dtype=object)"
      ]
     },
     "execution_count": 8,
     "metadata": {},
     "output_type": "execute_result"
    }
   ],
   "source": [
    "# Find the unique Genres\n",
    "bestsellers.Genre.unique()"
   ]
  },
  {
   "cell_type": "code",
   "execution_count": 11,
   "id": "295b79c8",
   "metadata": {},
   "outputs": [
    {
     "data": {
      "text/plain": [
       "(550, 7)"
      ]
     },
     "execution_count": 11,
     "metadata": {},
     "output_type": "execute_result"
    }
   ],
   "source": [
    "bestsellers.shape"
   ]
  },
  {
   "cell_type": "code",
   "execution_count": 10,
   "id": "25ff2642",
   "metadata": {},
   "outputs": [
    {
     "data": {
      "text/plain": [
       "248"
      ]
     },
     "execution_count": 10,
     "metadata": {},
     "output_type": "execute_result"
    }
   ],
   "source": [
    "# Find the number of unique Authors\n",
    "bestsellers.Author.nunique()"
   ]
  },
  {
   "cell_type": "code",
   "execution_count": 12,
   "id": "add7cd6a",
   "metadata": {},
   "outputs": [
    {
     "data": {
      "text/plain": [
       "13.1"
      ]
     },
     "execution_count": 12,
     "metadata": {},
     "output_type": "execute_result"
    }
   ],
   "source": [
    "# Find the average Price\n",
    "bestsellers.Price.mean()"
   ]
  },
  {
   "cell_type": "code",
   "execution_count": 13,
   "id": "801cd87d",
   "metadata": {},
   "outputs": [
    {
     "data": {
      "text/html": [
       "<div>\n",
       "<style scoped>\n",
       "    .dataframe tbody tr th:only-of-type {\n",
       "        vertical-align: middle;\n",
       "    }\n",
       "\n",
       "    .dataframe tbody tr th {\n",
       "        vertical-align: top;\n",
       "    }\n",
       "\n",
       "    .dataframe thead th {\n",
       "        text-align: right;\n",
       "    }\n",
       "</style>\n",
       "<table border=\"1\" class=\"dataframe\">\n",
       "  <thead>\n",
       "    <tr style=\"text-align: right;\">\n",
       "      <th></th>\n",
       "      <th>Name</th>\n",
       "      <th>Author</th>\n",
       "      <th>User Rating</th>\n",
       "      <th>Reviews</th>\n",
       "      <th>Price</th>\n",
       "      <th>Year</th>\n",
       "      <th>Genre</th>\n",
       "    </tr>\n",
       "  </thead>\n",
       "  <tbody>\n",
       "    <tr>\n",
       "      <th>69</th>\n",
       "      <td>Diagnostic and Statistical Manual of Mental Di...</td>\n",
       "      <td>American Psychiatric Association</td>\n",
       "      <td>4.5</td>\n",
       "      <td>6679</td>\n",
       "      <td>105</td>\n",
       "      <td>2013</td>\n",
       "      <td>Non Fiction</td>\n",
       "    </tr>\n",
       "    <tr>\n",
       "      <th>70</th>\n",
       "      <td>Diagnostic and Statistical Manual of Mental Di...</td>\n",
       "      <td>American Psychiatric Association</td>\n",
       "      <td>4.5</td>\n",
       "      <td>6679</td>\n",
       "      <td>105</td>\n",
       "      <td>2014</td>\n",
       "      <td>Non Fiction</td>\n",
       "    </tr>\n",
       "    <tr>\n",
       "      <th>473</th>\n",
       "      <td>The Twilight Saga Collection</td>\n",
       "      <td>Stephenie Meyer</td>\n",
       "      <td>4.7</td>\n",
       "      <td>3801</td>\n",
       "      <td>82</td>\n",
       "      <td>2009</td>\n",
       "      <td>Fiction</td>\n",
       "    </tr>\n",
       "    <tr>\n",
       "      <th>151</th>\n",
       "      <td>Hamilton: The Revolution</td>\n",
       "      <td>Lin-Manuel Miranda</td>\n",
       "      <td>4.9</td>\n",
       "      <td>5867</td>\n",
       "      <td>54</td>\n",
       "      <td>2016</td>\n",
       "      <td>Non Fiction</td>\n",
       "    </tr>\n",
       "    <tr>\n",
       "      <th>346</th>\n",
       "      <td>The Book of Basketball: The NBA According to T...</td>\n",
       "      <td>Bill Simmons</td>\n",
       "      <td>4.7</td>\n",
       "      <td>858</td>\n",
       "      <td>53</td>\n",
       "      <td>2009</td>\n",
       "      <td>Non Fiction</td>\n",
       "    </tr>\n",
       "    <tr>\n",
       "      <th>159</th>\n",
       "      <td>Harry Potter Paperback Box Set (Books 1-7)</td>\n",
       "      <td>J. K. Rowling</td>\n",
       "      <td>4.8</td>\n",
       "      <td>13471</td>\n",
       "      <td>52</td>\n",
       "      <td>2016</td>\n",
       "      <td>Fiction</td>\n",
       "    </tr>\n",
       "    <tr>\n",
       "      <th>271</th>\n",
       "      <td>Publication Manual of the American Psychologic...</td>\n",
       "      <td>American Psychological Association</td>\n",
       "      <td>4.5</td>\n",
       "      <td>8580</td>\n",
       "      <td>46</td>\n",
       "      <td>2009</td>\n",
       "      <td>Non Fiction</td>\n",
       "    </tr>\n",
       "    <tr>\n",
       "      <th>272</th>\n",
       "      <td>Publication Manual of the American Psychologic...</td>\n",
       "      <td>American Psychological Association</td>\n",
       "      <td>4.5</td>\n",
       "      <td>8580</td>\n",
       "      <td>46</td>\n",
       "      <td>2010</td>\n",
       "      <td>Non Fiction</td>\n",
       "    </tr>\n",
       "    <tr>\n",
       "      <th>273</th>\n",
       "      <td>Publication Manual of the American Psychologic...</td>\n",
       "      <td>American Psychological Association</td>\n",
       "      <td>4.5</td>\n",
       "      <td>8580</td>\n",
       "      <td>46</td>\n",
       "      <td>2011</td>\n",
       "      <td>Non Fiction</td>\n",
       "    </tr>\n",
       "    <tr>\n",
       "      <th>274</th>\n",
       "      <td>Publication Manual of the American Psychologic...</td>\n",
       "      <td>American Psychological Association</td>\n",
       "      <td>4.5</td>\n",
       "      <td>8580</td>\n",
       "      <td>46</td>\n",
       "      <td>2012</td>\n",
       "      <td>Non Fiction</td>\n",
       "    </tr>\n",
       "  </tbody>\n",
       "</table>\n",
       "</div>"
      ],
      "text/plain": [
       "                                                  Name  \\\n",
       "69   Diagnostic and Statistical Manual of Mental Di...   \n",
       "70   Diagnostic and Statistical Manual of Mental Di...   \n",
       "473                       The Twilight Saga Collection   \n",
       "151                           Hamilton: The Revolution   \n",
       "346  The Book of Basketball: The NBA According to T...   \n",
       "159         Harry Potter Paperback Box Set (Books 1-7)   \n",
       "271  Publication Manual of the American Psychologic...   \n",
       "272  Publication Manual of the American Psychologic...   \n",
       "273  Publication Manual of the American Psychologic...   \n",
       "274  Publication Manual of the American Psychologic...   \n",
       "\n",
       "                                 Author  User Rating  Reviews  Price  Year  \\\n",
       "69     American Psychiatric Association          4.5     6679    105  2013   \n",
       "70     American Psychiatric Association          4.5     6679    105  2014   \n",
       "473                     Stephenie Meyer          4.7     3801     82  2009   \n",
       "151                  Lin-Manuel Miranda          4.9     5867     54  2016   \n",
       "346                        Bill Simmons          4.7      858     53  2009   \n",
       "159                       J. K. Rowling          4.8    13471     52  2016   \n",
       "271  American Psychological Association          4.5     8580     46  2009   \n",
       "272  American Psychological Association          4.5     8580     46  2010   \n",
       "273  American Psychological Association          4.5     8580     46  2011   \n",
       "274  American Psychological Association          4.5     8580     46  2012   \n",
       "\n",
       "           Genre  \n",
       "69   Non Fiction  \n",
       "70   Non Fiction  \n",
       "473      Fiction  \n",
       "151  Non Fiction  \n",
       "346  Non Fiction  \n",
       "159      Fiction  \n",
       "271  Non Fiction  \n",
       "272  Non Fiction  \n",
       "273  Non Fiction  \n",
       "274  Non Fiction  "
      ]
     },
     "execution_count": 13,
     "metadata": {},
     "output_type": "execute_result"
    }
   ],
   "source": [
    "# Find the 10 highest prices\n",
    "bestsellers.nlargest(10, ['Price'])"
   ]
  },
  {
   "cell_type": "markdown",
   "id": "0df37adf",
   "metadata": {},
   "source": [
    "## Part 3\n",
    "* Find the top 3 most common book titles in the dataset\n",
    "* Create a new dataframe with only Author and User Rating.\n",
    "* Using the new dataframe, find the most common combination of Author and User Rating Score."
   ]
  },
  {
   "cell_type": "code",
   "execution_count": 15,
   "id": "b5b1cde1",
   "metadata": {},
   "outputs": [
    {
     "data": {
      "text/plain": [
       "Publication Manual of the American Psychological Association, 6th Edition    10\n",
       "StrengthsFinder 2.0                                                           9\n",
       "Oh, the Places You'll Go!                                                     8\n",
       "Name: Name, dtype: int64"
      ]
     },
     "execution_count": 15,
     "metadata": {},
     "output_type": "execute_result"
    }
   ],
   "source": [
    "# Find the top 3 most common book titles in the dataset\n",
    "bestsellers.Name.value_counts().head(3)"
   ]
  },
  {
   "cell_type": "code",
   "execution_count": 16,
   "id": "9277e234",
   "metadata": {},
   "outputs": [
    {
     "data": {
      "text/plain": [
       "Author                              User Rating\n",
       "Jeff Kinney                         4.8            10\n",
       "American Psychological Association  4.5            10\n",
       "Gallup                              4.0             9\n",
       "Rick Riordan                        4.8             9\n",
       "Dr. Seuss                           4.9             8\n",
       "                                                   ..\n",
       "Ken Follett                         4.5             1\n",
       "Kevin Kwan                          4.3             1\n",
       "Khaled Hosseini                     4.3             1\n",
       "DK                                  4.5             1\n",
       "Jeff Kinney                         4.9             1\n",
       "Length: 301, dtype: int64"
      ]
     },
     "execution_count": 16,
     "metadata": {},
     "output_type": "execute_result"
    }
   ],
   "source": [
    "# Create a new dataframe with only Author and User Rating.\n",
    "# Using the new dataframe, find the most common combination of Author and User Rating Score.\n",
    "bestsellers[['Author', 'User Rating']].value_counts()"
   ]
  },
  {
   "cell_type": "markdown",
   "id": "ab43956b",
   "metadata": {},
   "source": [
    "## Part 4\n",
    "* Create a pie chart showing the total number of times each Genre appears in the dataset.\n",
    "* Find out the top 10 most prolific authors and plot their number of books as a bar plot\n",
    "* BONUS: create a histogram showing the distribution of User Rating scores"
   ]
  },
  {
   "cell_type": "code",
   "execution_count": 20,
   "id": "a0b7b790",
   "metadata": {},
   "outputs": [
    {
     "data": {
      "text/plain": [
       "<AxesSubplot:ylabel='Genre'>"
      ]
     },
     "execution_count": 20,
     "metadata": {},
     "output_type": "execute_result"
    },
    {
     "data": {
      "image/png": "[encoded data removed]",
      "text/plain": [
       "<Figure size 640x480 with 1 Axes>"
      ]
     },
     "metadata": {},
     "output_type": "display_data"
    }
   ],
   "source": [
    "# Create a pie chart showing the total number of times each Genre appears in the dataset.\n",
    "bestsellers.Genre.value_counts().plot(kind='pie')"
   ]
  },
  {
   "cell_type": "code",
   "execution_count": 35,
   "id": "2062b175",
   "metadata": {},
   "outputs": [
    {
     "data": {
      "text/plain": [
       "<AxesSubplot:>"
      ]
     },
     "execution_count": 35,
     "metadata": {},
     "output_type": "execute_result"
    },
    {
     "data": {
      "image/png": "[encoded data removed]",
      "text/plain": [
       "<Figure size 640x480 with 1 Axes>"
      ]
     },
     "metadata": {},
     "output_type": "display_data"
    }
   ],
   "source": [
    "# Find out the top 10 most prolific authors and plot their number of books as a bar plot\n",
    "bestsellers.Author.value_counts().head(7).plot(kind='barh')"
   ]
  },
  {
   "cell_type": "code",
   "execution_count": 34,
   "id": "71cd7957",
   "metadata": {},
   "outputs": [
    {
     "data": {
      "image/png": "[encoded data removed]",
      "text/plain": [
       "<Figure size 640x480 with 1 Axes>"
      ]
     },
     "metadata": {},
     "output_type": "display_data"
    }
   ],
   "source": [
    "# BONUS: create a histogram showing the distribution of User Rating scores\n",
    "import matplotlib.pyplot as plt\n",
    "\n",
    "# Get the value counts of each user rating\n",
    "user_rating_counts = bestsellers['User Rating'].value_counts()\n",
    "\n",
    "# Plot the histogram with User Rating on the x-axis and frequency (count) on the y-axis\n",
    "user_rating_counts.plot(kind='bar')\n",
    "\n",
    "# Set the labels and title\n",
    "plt.xlabel('User Rating')\n",
    "plt.ylabel('Frequency')\n",
    "plt.title('Histogram of User Ratings')\n",
    "\n",
    "# Show the plot\n",
    "plt.show()"
   ]
  }
 ],
 "metadata": {
  "kernelspec": {
   "display_name": "Python 3 (ipykernel)",
   "language": "python",
   "name": "python3"
  },
  "language_info": {
   "codemirror_mode": {
    "name": "ipython",
    "version": 3
   },
   "file_extension": ".py",
   "mimetype": "text/x-python",
   "name": "python",
   "nbconvert_exporter": "python",
   "pygments_lexer": "ipython3",
   "version": "3.9.13"
  }
 },
 "nbformat": 4,
 "nbformat_minor": 5
}
